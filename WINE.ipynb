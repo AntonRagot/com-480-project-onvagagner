{
 "cells": [
  {
   "cell_type": "code",
   "execution_count": 1,
   "metadata": {},
   "outputs": [],
   "source": [
    "from pandas import DataFrame, read_csv\n",
    "import matplotlib.pyplot as plt\n",
    "import pandas as pd\n",
    "import math\n",
    "\n",
    "fileWineQuality = r'dataset/wineQualityReds.csv'\n",
    "file130k = r'dataset/winemag-data-130k-v2.csv'\n",
    "file150k = r'dataset/winemag-data_first150k.csv'"
   ]
  },
  {
   "cell_type": "code",
   "execution_count": 2,
   "metadata": {},
   "outputs": [],
   "source": [
    "dfWineQuality = pd.read_csv(fileWineQuality)\n",
    "dfWineMag130 = pd.read_csv(file130k)\n",
    "dfWineMag150 = pd.read_csv(file150k)"
   ]
  },
  {
   "cell_type": "code",
   "execution_count": 3,
   "metadata": {},
   "outputs": [
    {
     "name": "stdout",
     "output_type": "stream",
     "text": [
      "Index(['Unnamed: 0', 'fixed.acidity', 'volatile.acidity', 'citric.acid',\n",
      "       'residual.sugar', 'chlorides', 'free.sulfur.dioxide',\n",
      "       'total.sulfur.dioxide', 'density', 'pH', 'sulphates', 'alcohol',\n",
      "       'quality'],\n",
      "      dtype='object')\n"
     ]
    }
   ],
   "source": [
    "print(dfWineQuality.columns)"
   ]
  },
  {
   "cell_type": "code",
   "execution_count": 4,
   "metadata": {},
   "outputs": [
    {
     "name": "stdout",
     "output_type": "stream",
     "text": [
      "Index(['Unnamed: 0', 'country', 'description', 'designation', 'points',\n",
      "       'price', 'province', 'region_1', 'region_2', 'variety', 'winery'],\n",
      "      dtype='object')\n"
     ]
    }
   ],
   "source": [
    "print(dfWineMag150.columns)"
   ]
  },
  {
   "cell_type": "code",
   "execution_count": 5,
   "metadata": {},
   "outputs": [
    {
     "name": "stdout",
     "output_type": "stream",
     "text": [
      "          Unnamed: 0         points          price\n",
      "count  150930.000000  150930.000000  137235.000000\n",
      "mean    75464.500000      87.888418      33.131482\n",
      "std     43569.882402       3.222392      36.322536\n",
      "min         0.000000      80.000000       4.000000\n",
      "25%     37732.250000      86.000000      16.000000\n",
      "50%     75464.500000      88.000000      24.000000\n",
      "75%    113196.750000      90.000000      40.000000\n",
      "max    150929.000000     100.000000    2300.000000\n"
     ]
    }
   ],
   "source": [
    "print(dfWineMag150.describe())"
   ]
  },
  {
   "cell_type": "markdown",
   "metadata": {},
   "source": [
    "# Is the best wine universal?"
   ]
  },
  {
   "cell_type": "markdown",
   "metadata": {},
   "source": [
    "## Does the price reflect the quality of the wine ?"
   ]
  },
  {
   "cell_type": "code",
   "execution_count": 6,
   "metadata": {},
   "outputs": [
    {
     "name": "stdout",
     "output_type": "stream",
     "text": [
      "{80: 17.2242355605889, 81: 17.66507828454731, 82: 19.171878972794303, 83: 18.013604270707766, 84: 19.367885375494073, 85: 20.05506721820062, 86: 21.816528464915336, 87: 24.588278580814716, 88: 27.831295996008482, 89: 32.538375010815955, 90: 37.35781727297973, 91: 43.7558354141787, 92: 52.30360881882005, 93: 66.42543775254954, 94: 81.93781177253076, 95: 108.92701227830833, 96: 132.35097001763668, 97: 178.0, 98: 232.1315789473684, 99: 289.525, 100: 401.5833333333333}\n"
     ]
    }
   ],
   "source": [
    "pointsToPrice = {}\n",
    "\n",
    "for point in range(0,101) :\n",
    "    mean = dfWineMag150[(dfWineMag150.points == point)][\"price\"].mean()\n",
    "    if not math.isnan(mean):\n",
    "        pointsToPrice[point] = mean\n",
    "    \n",
    "print(pointsToPrice)"
   ]
  },
  {
   "cell_type": "code",
   "execution_count": 7,
   "metadata": {},
   "outputs": [
    {
     "data": {
      "text/plain": [
       "[]"
      ]
     },
     "execution_count": 7,
     "metadata": {},
     "output_type": "execute_result"
    },
    {
     "data": {
      "image/png": "[encoded data removed]",
      "text/plain": [
       "<Figure size 432x288 with 1 Axes>"
      ]
     },
     "metadata": {
      "needs_background": "light"
     },
     "output_type": "display_data"
    }
   ],
   "source": [
    "plt.bar(range(len(pointsToPrice)), pointsToPrice.values(), align=\"center\")\n",
    "plt.xticks(range(len(pointsToPrice)), list(pointsToPrice.keys()))\n",
    "\n",
    "plt.plot()"
   ]
  },
  {
   "cell_type": "markdown",
   "metadata": {},
   "source": [
    "## Is there any composition that is more liked ?"
   ]
  },
  {
   "cell_type": "code",
   "execution_count": 8,
   "metadata": {},
   "outputs": [
    {
     "name": "stdout",
     "output_type": "stream",
     "text": [
      "{3: 9.955000000000002, 4: 10.265094339622639, 5: 9.899706314243753, 6: 10.629519331243463, 7: 11.465912897822443, 8: 12.094444444444443}\n"
     ]
    }
   ],
   "source": [
    "qualityToAlcool = {}\n",
    "\n",
    "for q in range(0,11) :\n",
    "    mean = dfWineQuality[(dfWineQuality.quality == q)][\"alcohol\"].mean()\n",
    "    if not math.isnan(mean):\n",
    "        qualityToAlcool[q] = mean\n",
    "    \n",
    "print(qualityToAlcool)"
   ]
  },
  {
   "cell_type": "code",
   "execution_count": 9,
   "metadata": {},
   "outputs": [
    {
     "name": "stdout",
     "output_type": "stream",
     "text": [
      "{3: 3.3979999999999997, 4: 3.381509433962264, 5: 3.3049486049926546, 6: 3.3180721003134837, 7: 3.290753768844219, 8: 3.2672222222222214}\n"
     ]
    }
   ],
   "source": [
    "qualityToPH = {}\n",
    "\n",
    "for q in range(0,11) :\n",
    "    mean = dfWineQuality[(dfWineQuality.quality == q)][\"pH\"].mean()\n",
    "    if not math.isnan(mean):\n",
    "        qualityToPH[q] = mean\n",
    "    \n",
    "print(qualityToPH)"
   ]
  },
  {
   "cell_type": "markdown",
   "metadata": {},
   "source": [
    "We can also make a count by every column to check if every wine of the same rating a similar in composition"
   ]
  },
  {
   "cell_type": "markdown",
   "metadata": {},
   "source": [
    "## Which country produces the best wine ?"
   ]
  },
  {
   "cell_type": "code",
   "execution_count": 10,
   "metadata": {},
   "outputs": [
    {
     "name": "stdout",
     "output_type": "stream",
     "text": [
      "{'South Korea': 81.5, 'China': 82.0, 'Montenegro': 82.0, 'Brazil': 83.24, 'Slovakia': 83.66666666666667, 'Egypt': 83.66666666666667, 'Lithuania': 84.25, 'Uruguay': 84.47826086956522, 'Ukraine': 84.6, 'Moldova': 84.71830985915493, 'Bosnia and Herzegovina': 84.75, 'Mexico': 84.76190476190476, 'Macedonia': 84.8125, 'Romania': 84.92086330935251, 'Japan': 85.0, 'Bulgaria': 85.46753246753246, 'Georgia': 85.51162790697674, 'Lebanon': 85.70270270270271, 'Czech Republic': 85.83333333333333, 'Cyprus': 85.87096774193549, 'Argentina': 85.9960930562955, 'Tunisia': 86.0, 'Greece': 86.11764705882354, 'Croatia': 86.28089887640449, 'Chile': 86.29676753782668, 'Spain': 86.64658925979681, 'Luxembourg': 87.0, 'Israel': 87.17619047619047, 'South Africa': 87.22542072630647, 'Switzerland': 87.25, 'Hungary': 87.32900432900433, 'New Zealand': 87.55421686746988, 'India': 87.625, 'Serbia': 87.71428571428571, 'US': 87.81878936487331, 'Australia': 87.89247528747227, 'US-France': 88.0, 'Albania': 88.0, 'Portugal': 88.05768508079669, 'Turkey': 88.09615384615384, 'Morocco': 88.16666666666667, 'Slovenia': 88.23404255319149, 'Canada': 88.23979591836735, 'Italy': 88.41366385552432, 'Germany': 88.62642740619903, 'France': 88.92586975068727, 'Austria': 89.27674190382729, 'England': 92.88888888888889}\n"
     ]
    }
   ],
   "source": [
    "countryToPoints = {}\n",
    "\n",
    "for c in set(dfWineMag150[\"country\"]) :\n",
    "    mean = dfWineMag150[(dfWineMag150.country == c)][\"points\"].mean()\n",
    "    if not math.isnan(mean):\n",
    "        countryToPoints[c] = mean\n",
    "    \n",
    "countryToPointsSorted = {k: v for k, v in sorted(countryToPoints.items(), key=lambda item: item[1])}\n",
    "print(countryToPointsSorted)"
   ]
  },
  {
   "cell_type": "markdown",
   "metadata": {},
   "source": [
    "We can also dive into which country produces which \"kind\" of wine\n",
    "\n",
    "we can also see which country produces most of the wine of the dataset:"
   ]
  },
  {
   "cell_type": "code",
   "execution_count": 11,
   "metadata": {},
   "outputs": [
    {
     "name": "stdout",
     "output_type": "stream",
     "text": [
      "{nan: 0, 'US-France': 1, 'Japan': 2, 'Albania': 2, 'Tunisia': 2, 'Montenegro': 2, 'Slovakia': 3, 'Egypt': 3, 'China': 3, 'Bosnia and Herzegovina': 4, 'South Korea': 4, 'Switzerland': 4, 'Ukraine': 5, 'Czech Republic': 6, 'Lithuania': 8, 'India': 8, 'England': 9, 'Luxembourg': 9, 'Morocco': 12, 'Serbia': 14, 'Macedonia': 16, 'Brazil': 25, 'Cyprus': 31, 'Lebanon': 37, 'Georgia': 43, 'Turkey': 52, 'Mexico': 63, 'Moldova': 71, 'Bulgaria': 77, 'Croatia': 89, 'Uruguay': 92, 'Slovenia': 94, 'Romania': 139, 'Canada': 196, 'Hungary': 231, 'Israel': 630, 'Greece': 884, 'South Africa': 2258, 'Germany': 2452, 'Austria': 3057, 'New Zealand': 3320, 'Australia': 4957, 'Portugal': 5322, 'Argentina': 5631, 'Chile': 5816, 'Spain': 8268, 'France': 21098, 'Italy': 23478, 'US': 62397}\n"
     ]
    }
   ],
   "source": [
    "countryToCount = {}\n",
    "\n",
    "for c in set(dfWineMag150[\"country\"]) :\n",
    "    mean = dfWineMag150[(dfWineMag150.country == c)].shape[0]\n",
    "    if not math.isnan(mean):\n",
    "        countryToCount[c] = mean\n",
    "    \n",
    "countryToCountSorted = {k: v for k, v in sorted(countryToCount.items(), key=lambda item: item[1])}\n",
    "print(countryToCountSorted)"
   ]
  },
  {
   "cell_type": "markdown",
   "metadata": {},
   "source": [
    "## OTHER"
   ]
  },
  {
   "cell_type": "markdown",
   "metadata": {},
   "source": [
    "Faire un cloud point of diffenrent wine description with \"stand out words\""
   ]
  },
  {
   "cell_type": "markdown",
   "metadata": {},
   "source": [
    "We can also make two axis en mode :\n",
    "    \n",
    " une caracteristique\n",
    "        \n",
    "....x...|...x..... <br/>\n",
    "....... .|......... <br/>\n",
    "------------------  une autre <br/>\n",
    "........|....x....   <br/>                 \n",
    ".x.....|.........   <br/>                 \n",
    "  le contraire\n"
   ]
  }
 ],
 "metadata": {
  "kernelspec": {
   "display_name": "Python 3",
   "language": "python",
   "name": "python3"
  },
  "language_info": {
   "codemirror_mode": {
    "name": "ipython",
    "version": 3
   },
   "file_extension": ".py",
   "mimetype": "text/x-python",
   "name": "python",
   "nbconvert_exporter": "python",
   "pygments_lexer": "ipython3",
   "version": "3.7.3"
  }
 },
 "nbformat": 4,
 "nbformat_minor": 2
}
